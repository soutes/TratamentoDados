{
  "nbformat": 4,
  "nbformat_minor": 0,
  "metadata": {
    "kernelspec": {
      "display_name": "Python 3",
      "language": "python",
      "name": "python3"
    },
    "language_info": {
      "codemirror_mode": {
        "name": "ipython",
        "version": 3
      },
      "file_extension": ".py",
      "mimetype": "text/x-python",
      "name": "python",
      "nbconvert_exporter": "python",
      "pygments_lexer": "ipython3",
      "version": "3.7.3"
    },
    "colab": {
      "name": "tratamento_dados.ipynb",
      "provenance": [],
      "collapsed_sections": []
    }
  },
  "cells": [
    {
      "cell_type": "markdown",
      "metadata": {
        "id": "xcHHlt8F-NQ8"
      },
      "source": [
        "O tratamento dos dados é uma das tarefas mais árduas e exige um certo esforço e dedicação para que o resultado do trabalho final seja mais acertivo.\n",
        "Nesse material, vou demonstrar algumas possibilidades de como podem ser tratados os dados, dentro elas o preenchimento com a moda, com dados randômicos seguindo uma maioria dos casos e outros."
      ]
    },
    {
      "cell_type": "markdown",
      "metadata": {
        "id": "W26ji2S3-NQ-"
      },
      "source": [
        "## Informações do conjunto de dados:\n",
        "\n",
        "Para esse exercício irei utilizar um banco de dados relacionado com campanhas de marketing direto de uma instituição bancária portuguesa. As campanhas de marketing foram baseadas em chamadas telefônicas. Muitas vezes, era necessário mais de um contato para o mesmo cliente, a fim de acessar se o produto (depósito a prazo bancário) seria ('sim') ou não ('não') subscrito.\n",
        "\n",
        "Neste exercício não irei demonstrar o uso deste dataset em machine learning, pois o foco aqui é apenas o tratamento dos dados. Em outro exercício irei demonstrar os resultados da classificação onde será possível prever se o cliente irá assinar (sim / não) um depósito a um termo (variável y)."
      ]
    },
    {
      "cell_type": "markdown",
      "metadata": {
        "id": "J5lt-I7Q-NRF"
      },
      "source": [
        "Começamos importando as bibliotecas e o dataset"
      ]
    },
    {
      "cell_type": "code",
      "metadata": {
        "id": "PiDibasF-NRH"
      },
      "source": [
        "import pandas as pd\n",
        "import numpy as np"
      ],
      "execution_count": null,
      "outputs": []
    },
    {
      "cell_type": "code",
      "metadata": {
        "id": "xdSuNdjXDvwr",
        "colab": {
          "base_uri": "https://localhost:8080/",
          "height": 34
        },
        "outputId": "a2e39d70-378c-42d7-cc34-08ab0d3f2432"
      },
      "source": [
        "# Run this cell to mount your Google Drive.\n",
        "from google.colab import drive\n",
        "drive.mount('/content/drive')"
      ],
      "execution_count": null,
      "outputs": [
        {
          "output_type": "stream",
          "text": [
            "Drive already mounted at /content/drive; to attempt to forcibly remount, call drive.mount(\"/content/drive\", force_remount=True).\n"
          ],
          "name": "stdout"
        }
      ]
    },
    {
      "cell_type": "code",
      "metadata": {
        "id": "BPSwGM-HDzS1"
      },
      "source": [
        "dataset = pd.read_csv('/content/drive/My Drive/Colab Notebooks/callcenter_marketing.csv', sep=\",\")\n",
        "\n",
        "#As taxas Euribor baseiam-se na média das taxas de juros praticadas em empréstimos interbancários em euros \n",
        "#por cerca 25/40 bancos proeminentes europeus (o painel de Bancos)"
      ],
      "execution_count": null,
      "outputs": []
    },
    {
      "cell_type": "markdown",
      "metadata": {
        "id": "P6KHgxC-Ee2J"
      },
      "source": [
        "Vamos dar uma olhada rápida em como estão distribuídos os dados:"
      ]
    },
    {
      "cell_type": "code",
      "metadata": {
        "id": "-nrR2lno-NRO",
        "colab": {
          "base_uri": "https://localhost:8080/",
          "height": 224
        },
        "outputId": "2df26790-b161-4b1b-a860-f715451d67ef"
      },
      "source": [
        "dataset.head()"
      ],
      "execution_count": null,
      "outputs": [
        {
          "output_type": "execute_result",
          "data": {
            "text/html": [
              "<div>\n",
              "<style scoped>\n",
              "    .dataframe tbody tr th:only-of-type {\n",
              "        vertical-align: middle;\n",
              "    }\n",
              "\n",
              "    .dataframe tbody tr th {\n",
              "        vertical-align: top;\n",
              "    }\n",
              "\n",
              "    .dataframe thead th {\n",
              "        text-align: right;\n",
              "    }\n",
              "</style>\n",
              "<table border=\"1\" class=\"dataframe\">\n",
              "  <thead>\n",
              "    <tr style=\"text-align: right;\">\n",
              "      <th></th>\n",
              "      <th>idade</th>\n",
              "      <th>profissao</th>\n",
              "      <th>estado_civil</th>\n",
              "      <th>educacao</th>\n",
              "      <th>inadimplente</th>\n",
              "      <th>emprestimo_moradia</th>\n",
              "      <th>emprestimo_pessoal</th>\n",
              "      <th>meio_contato</th>\n",
              "      <th>mes</th>\n",
              "      <th>dia_da_semana</th>\n",
              "      <th>duracao</th>\n",
              "      <th>qtd_contatos_campanha</th>\n",
              "      <th>dias_ultimo_contato</th>\n",
              "      <th>qtd_contatos_total</th>\n",
              "      <th>campanha_anterior</th>\n",
              "      <th>indice_precos_consumidor</th>\n",
              "      <th>indice_confianca_consumidor</th>\n",
              "      <th>euribor3m</th>\n",
              "      <th>resultado</th>\n",
              "    </tr>\n",
              "  </thead>\n",
              "  <tbody>\n",
              "    <tr>\n",
              "      <th>0</th>\n",
              "      <td>56</td>\n",
              "      <td>dona_casa</td>\n",
              "      <td>casado</td>\n",
              "      <td>fundamental_4a</td>\n",
              "      <td>nao</td>\n",
              "      <td>nao</td>\n",
              "      <td>nao</td>\n",
              "      <td>telefone</td>\n",
              "      <td>mai</td>\n",
              "      <td>seg</td>\n",
              "      <td>261</td>\n",
              "      <td>1</td>\n",
              "      <td>999</td>\n",
              "      <td>0</td>\n",
              "      <td>nao_existente</td>\n",
              "      <td>93.994</td>\n",
              "      <td>-36.4</td>\n",
              "      <td>4.857</td>\n",
              "      <td>nao</td>\n",
              "    </tr>\n",
              "    <tr>\n",
              "      <th>1</th>\n",
              "      <td>57</td>\n",
              "      <td>servicos</td>\n",
              "      <td>casado</td>\n",
              "      <td>ensino_medio</td>\n",
              "      <td>NaN</td>\n",
              "      <td>nao</td>\n",
              "      <td>nao</td>\n",
              "      <td>telefone</td>\n",
              "      <td>mai</td>\n",
              "      <td>seg</td>\n",
              "      <td>149</td>\n",
              "      <td>1</td>\n",
              "      <td>999</td>\n",
              "      <td>0</td>\n",
              "      <td>nao_existente</td>\n",
              "      <td>93.994</td>\n",
              "      <td>-36.4</td>\n",
              "      <td>4.857</td>\n",
              "      <td>nao</td>\n",
              "    </tr>\n",
              "    <tr>\n",
              "      <th>2</th>\n",
              "      <td>37</td>\n",
              "      <td>servicos</td>\n",
              "      <td>casado</td>\n",
              "      <td>ensino_medio</td>\n",
              "      <td>nao</td>\n",
              "      <td>sim</td>\n",
              "      <td>nao</td>\n",
              "      <td>telefone</td>\n",
              "      <td>mai</td>\n",
              "      <td>seg</td>\n",
              "      <td>226</td>\n",
              "      <td>1</td>\n",
              "      <td>999</td>\n",
              "      <td>0</td>\n",
              "      <td>nao_existente</td>\n",
              "      <td>93.994</td>\n",
              "      <td>-36.4</td>\n",
              "      <td>4.857</td>\n",
              "      <td>nao</td>\n",
              "    </tr>\n",
              "    <tr>\n",
              "      <th>3</th>\n",
              "      <td>40</td>\n",
              "      <td>admin.</td>\n",
              "      <td>casado</td>\n",
              "      <td>fundamental_6a</td>\n",
              "      <td>nao</td>\n",
              "      <td>nao</td>\n",
              "      <td>nao</td>\n",
              "      <td>telefone</td>\n",
              "      <td>mai</td>\n",
              "      <td>seg</td>\n",
              "      <td>151</td>\n",
              "      <td>1</td>\n",
              "      <td>999</td>\n",
              "      <td>0</td>\n",
              "      <td>nao_existente</td>\n",
              "      <td>93.994</td>\n",
              "      <td>-36.4</td>\n",
              "      <td>4.857</td>\n",
              "      <td>nao</td>\n",
              "    </tr>\n",
              "    <tr>\n",
              "      <th>4</th>\n",
              "      <td>56</td>\n",
              "      <td>servicos</td>\n",
              "      <td>casado</td>\n",
              "      <td>ensino_medio</td>\n",
              "      <td>nao</td>\n",
              "      <td>nao</td>\n",
              "      <td>sim</td>\n",
              "      <td>telefone</td>\n",
              "      <td>mai</td>\n",
              "      <td>seg</td>\n",
              "      <td>307</td>\n",
              "      <td>1</td>\n",
              "      <td>999</td>\n",
              "      <td>0</td>\n",
              "      <td>nao_existente</td>\n",
              "      <td>93.994</td>\n",
              "      <td>-36.4</td>\n",
              "      <td>4.857</td>\n",
              "      <td>nao</td>\n",
              "    </tr>\n",
              "  </tbody>\n",
              "</table>\n",
              "</div>"
            ],
            "text/plain": [
              "   idade  profissao  ... euribor3m resultado\n",
              "0     56  dona_casa  ...     4.857       nao\n",
              "1     57   servicos  ...     4.857       nao\n",
              "2     37   servicos  ...     4.857       nao\n",
              "3     40     admin.  ...     4.857       nao\n",
              "4     56   servicos  ...     4.857       nao\n",
              "\n",
              "[5 rows x 19 columns]"
            ]
          },
          "metadata": {
            "tags": []
          },
          "execution_count": 24
        }
      ]
    },
    {
      "cell_type": "code",
      "metadata": {
        "id": "hWnABTvo-NRS",
        "colab": {
          "base_uri": "https://localhost:8080/",
          "height": 34
        },
        "outputId": "443d2dba-76eb-45df-ae66-a466d54256bb"
      },
      "source": [
        "dataset.shape"
      ],
      "execution_count": null,
      "outputs": [
        {
          "output_type": "execute_result",
          "data": {
            "text/plain": [
              "(41188, 19)"
            ]
          },
          "metadata": {
            "tags": []
          },
          "execution_count": 25
        }
      ]
    },
    {
      "cell_type": "markdown",
      "metadata": {
        "id": "PVqZZyS8-NRW"
      },
      "source": [
        "Podemos verificar que este dataset tem aproximadamente 40 mil linhas em 17 variáveis.\n",
        "\n",
        "As variáveis são: \n",
        "\n",
        "idade (númerico)\n",
        "\n",
        "profissao (categórico)\n",
        "\n",
        "estado_civil (categórico)\n",
        "\n",
        "educacao (categórico)\n",
        "\n",
        "inadimplente (categórico)\n",
        "\n",
        "emprestimo_moradia (categórico)\n",
        "\n",
        "emprestimo_pessoal (categórico)\n",
        "\n",
        "meio_contato (categórico)\n",
        "\n",
        "mes (categórico)\n",
        "\n",
        "dia_da_semana (categórico)\n",
        "\n",
        "duracao (numérico)\n",
        "\n",
        "qtd_contatos_campanha (categórico)\n",
        "\n",
        "dias_ultimo_contato (numérico)\n",
        "\n",
        "qtd_contatos_total (numérico)\n",
        "\n",
        "campanha_anterior (categórico)\n",
        "\n",
        "indice_precos_consumidor (numérico)\n",
        "\n",
        "indice_confianca_consumidor (numérico)\n",
        "\n",
        "euribor3m (numérico)\n",
        "\n",
        "resultado (binário)"
      ]
    },
    {
      "cell_type": "markdown",
      "metadata": {
        "id": "d-zN8SHe-NRX"
      },
      "source": [
        "Antes de iniciar o tratamento, devemos saber se temos dados faltantes e, caso sim, onde estão os mesmos:"
      ]
    },
    {
      "cell_type": "code",
      "metadata": {
        "id": "X_GHTfMG-NRY",
        "colab": {
          "base_uri": "https://localhost:8080/",
          "height": 357
        },
        "outputId": "0251e179-893f-4be9-c196-04527af89cbd"
      },
      "source": [
        "dataset.isnull().sum()"
      ],
      "execution_count": null,
      "outputs": [
        {
          "output_type": "execute_result",
          "data": {
            "text/plain": [
              "idade                             0\n",
              "profissao                       330\n",
              "estado_civil                     80\n",
              "educacao                       1731\n",
              "inadimplente                   8597\n",
              "emprestimo_moradia              990\n",
              "emprestimo_pessoal              990\n",
              "meio_contato                      0\n",
              "mes                               0\n",
              "dia_da_semana                     0\n",
              "duracao                           0\n",
              "qtd_contatos_campanha             0\n",
              "dias_ultimo_contato               0\n",
              "qtd_contatos_total                0\n",
              "campanha_anterior                 0\n",
              "indice_precos_consumidor          0\n",
              "indice_confianca_consumidor       0\n",
              "euribor3m                         0\n",
              "resultado                         0\n",
              "dtype: int64"
            ]
          },
          "metadata": {
            "tags": []
          },
          "execution_count": 62
        }
      ]
    },
    {
      "cell_type": "markdown",
      "metadata": {
        "id": "MDvhm4iD-NRd"
      },
      "source": [
        "Agora ficou claro que existem dados faltantes nas variáveis profissao, educacao, inadimplente, emprestimo_moradia e emprestimo_pessoal. Como esse exemplo trata-se apenas de tratamento de dados, será utilizada apenas as variáveis emprestimo_pessoal e estado_civil."
      ]
    },
    {
      "cell_type": "code",
      "metadata": {
        "id": "LGbUXMWwQFmp",
        "colab": {
          "base_uri": "https://localhost:8080/",
          "height": 68
        },
        "outputId": "944dab51-7b9f-4d5c-e42e-3bacb51c4145"
      },
      "source": [
        "#Aqui visualizamos como estão distribuídos os dados originais:\n",
        "dataset['emprestimo_pessoal'].value_counts()"
      ],
      "execution_count": null,
      "outputs": [
        {
          "output_type": "execute_result",
          "data": {
            "text/plain": [
              "nao    33950\n",
              "sim     6248\n",
              "Name: emprestimo_pessoal, dtype: int64"
            ]
          },
          "metadata": {
            "tags": []
          },
          "execution_count": 10
        }
      ]
    },
    {
      "cell_type": "markdown",
      "metadata": {
        "id": "GcGcwOfeOdNw"
      },
      "source": [
        "Como será feito diferentes formas de tratamento, crio diferentes dataset's para facilitar a visualização do resultado de cada exemplo."
      ]
    },
    {
      "cell_type": "code",
      "metadata": {
        "id": "6OTHIdWjOLLY"
      },
      "source": [
        "df_ep_mode = dataset['emprestimo_pessoal']"
      ],
      "execution_count": null,
      "outputs": []
    },
    {
      "cell_type": "code",
      "metadata": {
        "id": "w9-NzlziPUuO"
      },
      "source": [
        "df_ep_porcentagem = dataset['emprestimo_pessoal']"
      ],
      "execution_count": null,
      "outputs": []
    },
    {
      "cell_type": "code",
      "metadata": {
        "id": "0alweXW-PnP8"
      },
      "source": [
        "df_ep_del = dataset['emprestimo_pessoal']"
      ],
      "execution_count": null,
      "outputs": []
    },
    {
      "cell_type": "markdown",
      "metadata": {
        "id": "T7ldkvvL-NRe"
      },
      "source": [
        "## Tratamento utilizando números randômicos com base na porcentagem da distribuição dos dados válidos."
      ]
    },
    {
      "cell_type": "markdown",
      "metadata": {
        "id": "TJGUN1vp-NRg"
      },
      "source": [
        "Primeiro precisamos calcular qual a porcentagem dos dados no dataset. Pegamos os valores por categoria e dividimos pela diferença entre o total de dados e os dados faltantes da variável."
      ]
    },
    {
      "cell_type": "code",
      "metadata": {
        "id": "vN3xeI2v-NRh",
        "colab": {
          "base_uri": "https://localhost:8080/",
          "height": 68
        },
        "outputId": "3c6961c8-face-4ca7-e413-6b6f65629925"
      },
      "source": [
        "dataset['emprestimo_pessoal'].value_counts()/(dataset.shape[0]-990)"
      ],
      "execution_count": null,
      "outputs": [
        {
          "output_type": "execute_result",
          "data": {
            "text/plain": [
              "nao    0.844569\n",
              "sim    0.155431\n",
              "Name: emprestimo_pessoal, dtype: float64"
            ]
          },
          "metadata": {
            "tags": []
          },
          "execution_count": 14
        }
      ]
    },
    {
      "cell_type": "markdown",
      "metadata": {
        "id": "i8m5DAxx-NRl"
      },
      "source": [
        "86% dos dados estão concentrados em usuários que não possuem empréstimos. Abaixo foi é chamada uma função randômica com números de 1 a 100, definindo que os números menores ou igual a 86, serão classificados como não e para os demais números randômicos, sera definido como sim. Ao final é feito a alteração no dataset utilizando um apply."
      ]
    },
    {
      "cell_type": "code",
      "metadata": {
        "id": "b1wQqgcS-NRn"
      },
      "source": [
        "def define_pessoal(valor):\n",
        "    numero = np.random.randint(1,100)    \n",
        "    if pd.isnull(valor):\n",
        "        if numero<=85:\n",
        "            return 'nao'\n",
        "        else:\n",
        "            return 'sim'\n",
        "    else:\n",
        "        return valor\n",
        "#Chamamos o resultado da função e aplicamos no dataset, confirmando a alteração.\n",
        "df_ep_porcentagem = df_ep_porcentagem.apply(define_pessoal)"
      ],
      "execution_count": null,
      "outputs": []
    },
    {
      "cell_type": "markdown",
      "metadata": {
        "id": "zDWp8UehUD_G"
      },
      "source": [
        "Veja abaixo como ficaram os dados após esse exemplo de tratamento:"
      ]
    },
    {
      "cell_type": "code",
      "metadata": {
        "id": "hcfTD10iUEn-",
        "colab": {
          "base_uri": "https://localhost:8080/",
          "height": 68
        },
        "outputId": "5771b44f-091d-4eaa-fb13-7982425a7b66"
      },
      "source": [
        "df_ep_porcentagem.value_counts()"
      ],
      "execution_count": null,
      "outputs": [
        {
          "output_type": "execute_result",
          "data": {
            "text/plain": [
              "nao    33950\n",
              "sim     6248\n",
              "Name: emprestimo_pessoal, dtype: int64"
            ]
          },
          "metadata": {
            "tags": []
          },
          "execution_count": 18
        }
      ]
    },
    {
      "cell_type": "code",
      "metadata": {
        "id": "b37bZ9dIYXbR",
        "colab": {
          "base_uri": "https://localhost:8080/",
          "height": 34
        },
        "outputId": "5256454d-3572-48e7-ef67-4f0626b9cb8b"
      },
      "source": [
        "df_ep_porcentagem.isnull().sum()"
      ],
      "execution_count": null,
      "outputs": [
        {
          "output_type": "execute_result",
          "data": {
            "text/plain": [
              "0"
            ]
          },
          "metadata": {
            "tags": []
          },
          "execution_count": 19
        }
      ]
    },
    {
      "cell_type": "markdown",
      "metadata": {
        "id": "uYLVWxm2Ijy5"
      },
      "source": [
        "## Tratamento utilizando a moda da variável:"
      ]
    },
    {
      "cell_type": "code",
      "metadata": {
        "id": "q2Zp-WOY-NRs",
        "colab": {
          "base_uri": "https://localhost:8080/",
          "height": 68
        },
        "outputId": "184302db-4038-4de1-ce38-43a7bf811814"
      },
      "source": [
        "df_ep_mode.fillna(df_ep_mode.mode()[0], inplace=True)\n",
        "df_ep_mode.value_counts()"
      ],
      "execution_count": null,
      "outputs": [
        {
          "output_type": "execute_result",
          "data": {
            "text/plain": [
              "nao    33950\n",
              "sim     6248\n",
              "Name: emprestimo_pessoal, dtype: int64"
            ]
          },
          "metadata": {
            "tags": []
          },
          "execution_count": 20
        }
      ]
    },
    {
      "cell_type": "code",
      "metadata": {
        "id": "Gd2-HIj8Ybqw",
        "colab": {
          "base_uri": "https://localhost:8080/",
          "height": 34
        },
        "outputId": "6376fa6d-877f-4bca-9601-9fc97f0b5cee"
      },
      "source": [
        "df_ep_mode.isnull().sum()"
      ],
      "execution_count": null,
      "outputs": [
        {
          "output_type": "execute_result",
          "data": {
            "text/plain": [
              "0"
            ]
          },
          "metadata": {
            "tags": []
          },
          "execution_count": 21
        }
      ]
    },
    {
      "cell_type": "markdown",
      "metadata": {
        "id": "HzuyDaq7X-BU"
      },
      "source": [
        "##Tratamento apenas para excluir os dados faltantes"
      ]
    },
    {
      "cell_type": "markdown",
      "metadata": {
        "id": "bINFTmQuYC0D"
      },
      "source": [
        "Neste exemplo separamos apenas uma coluna para exemplo, mas caso esse método fosse utilizado no dateset completo, poderíamos excluir apenas as linhas de uma determinada variável ou até mesmo toda a variável."
      ]
    },
    {
      "cell_type": "code",
      "metadata": {
        "id": "GCyj8vOTahk4"
      },
      "source": [
        "df_ep_del.dropna(inplace=True)"
      ],
      "execution_count": null,
      "outputs": []
    },
    {
      "cell_type": "code",
      "metadata": {
        "id": "XxNFn158-NRx",
        "colab": {
          "base_uri": "https://localhost:8080/",
          "height": 34
        },
        "outputId": "2787981e-9928-4dd3-e927-d2669193e5cc"
      },
      "source": [
        "df_ep_del.isnull().sum()"
      ],
      "execution_count": null,
      "outputs": [
        {
          "output_type": "execute_result",
          "data": {
            "text/plain": [
              "0"
            ]
          },
          "metadata": {
            "tags": []
          },
          "execution_count": 9
        }
      ]
    },
    {
      "cell_type": "markdown",
      "metadata": {
        "id": "PtgnDLlpYiSl"
      },
      "source": [
        "##Classificar em uma nova categoria da variável: "
      ]
    },
    {
      "cell_type": "markdown",
      "metadata": {
        "id": "5unOBJGOZFeS"
      },
      "source": [
        "Ao preencher as informações categóricas como genêro, estado civil, educação (neste exemplo) com valores randômicos, pela moda, média ou algum especifico, pode gerar uma leitura errada na análise exploratória. Por isso o ideal é classificar os missing values  para uma nova categoria."
      ]
    },
    {
      "cell_type": "code",
      "metadata": {
        "id": "y9Shqf7GY4gD"
      },
      "source": [
        "df_ec = dataset['estado_civil']"
      ],
      "execution_count": null,
      "outputs": []
    },
    {
      "cell_type": "code",
      "metadata": {
        "id": "lvNXfe1n-NR8",
        "colab": {
          "base_uri": "https://localhost:8080/",
          "height": 85
        },
        "outputId": "804b8de7-10f8-4fff-8182-2b8bdf6debf1"
      },
      "source": [
        "df_ec.value_counts()"
      ],
      "execution_count": null,
      "outputs": [
        {
          "output_type": "execute_result",
          "data": {
            "text/plain": [
              "casado        24928\n",
              "solteiro      11568\n",
              "divorciado     4612\n",
              "Name: estado_civil, dtype: int64"
            ]
          },
          "metadata": {
            "tags": []
          },
          "execution_count": 23
        }
      ]
    },
    {
      "cell_type": "code",
      "metadata": {
        "id": "-Nts6a3nZ-_t",
        "colab": {
          "base_uri": "https://localhost:8080/",
          "height": 34
        },
        "outputId": "2157612c-f333-4cbc-c181-3161e20589e8"
      },
      "source": [
        "df_ec.isnull().sum()"
      ],
      "execution_count": null,
      "outputs": [
        {
          "output_type": "execute_result",
          "data": {
            "text/plain": [
              "80"
            ]
          },
          "metadata": {
            "tags": []
          },
          "execution_count": 24
        }
      ]
    },
    {
      "cell_type": "code",
      "metadata": {
        "id": "mJJNmvFV-NSA"
      },
      "source": [
        "df_ec.fillna('não definido', inplace=True)"
      ],
      "execution_count": null,
      "outputs": []
    },
    {
      "cell_type": "code",
      "metadata": {
        "id": "RJ40yckoUpY3",
        "colab": {
          "base_uri": "https://localhost:8080/",
          "height": 102
        },
        "outputId": "19036d65-a946-45ef-a4a7-dd0f765d4a32"
      },
      "source": [
        "df_ec.value_counts()"
      ],
      "execution_count": null,
      "outputs": [
        {
          "output_type": "execute_result",
          "data": {
            "text/plain": [
              "casado          24928\n",
              "solteiro        11568\n",
              "divorciado       4612\n",
              "não definido       80\n",
              "Name: estado_civil, dtype: int64"
            ]
          },
          "metadata": {
            "tags": []
          },
          "execution_count": 26
        }
      ]
    }
  ]
}